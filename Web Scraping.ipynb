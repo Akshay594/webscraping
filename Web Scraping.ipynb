{
 "cells": [
  {
   "cell_type": "code",
   "execution_count": 1,
   "id": "4fff414c",
   "metadata": {},
   "outputs": [
    {
     "name": "stdout",
     "output_type": "stream",
     "text": [
      "[<li class=\"l11\">List Item 1</li>,\n",
      " <li class=\"l21\">List Item 2</li>,\n",
      " <li class=\"l31\">List Item 3</li>,\n",
      " <li class=\"l41\">List Item 4</li>,\n",
      " <li class=\"l51\">List Item 5</li>]\n"
     ]
    }
   ],
   "source": [
    "from bs4 import BeautifulSoup\n",
    "from pprint import pprint\n",
    "\n",
    "with open('index.html') as f:\n",
    "\tsoup = BeautifulSoup(f, 'html.parser')\n",
    "\n",
    "div_elem_1 = soup.find('div', {'class':'parent1'}).find('li').findAll()\n",
    "div_elem_2 = soup.find('div', {'id':'parent2'})\n",
    "each_li_elelm = soup.find('div', {'class':'parent1'}).findAll('li')\n",
    "each_li_elelm_2 = soup.find('div', {'id':'parent2'}).findAll('li')\n",
    "# print(div_elem_1.find('li', {'class':'l1'}).text)\n",
    "\n",
    "\n",
    "pprint(each_li_elelm_2)\n",
    "\n",
    "# print(div_elem_2.find('li'))"
   ]
  },
  {
   "cell_type": "code",
   "execution_count": 2,
   "id": "fa94051d",
   "metadata": {},
   "outputs": [],
   "source": [
    "import requests\n",
    "import pandas as pd\n",
    "from collections import defaultdict\n",
    "\n",
    "url = \"https://www.python.org/events/\"\n",
    "res = requests.get(url)"
   ]
  },
  {
   "cell_type": "code",
   "execution_count": 3,
   "id": "8c35234a",
   "metadata": {},
   "outputs": [
    {
     "name": "stdout",
     "output_type": "stream",
     "text": [
      "200\n"
     ]
    }
   ],
   "source": [
    "print(res.status_code)"
   ]
  },
  {
   "cell_type": "code",
   "execution_count": 4,
   "id": "42afc9cf",
   "metadata": {},
   "outputs": [],
   "source": [
    "soup = BeautifulSoup(res.text, 'html.parser')"
   ]
  },
  {
   "cell_type": "code",
   "execution_count": 5,
   "id": "db6b8bd8",
   "metadata": {},
   "outputs": [],
   "source": [
    "events = soup.find('ul', {'class':'list-recent-events'}).findAll('li')"
   ]
  },
  {
   "cell_type": "code",
   "execution_count": 6,
   "id": "0795bce3",
   "metadata": {},
   "outputs": [],
   "source": [
    "details = defaultdict(list)"
   ]
  },
  {
   "cell_type": "code",
   "execution_count": 7,
   "id": "2d3d54e0",
   "metadata": {},
   "outputs": [],
   "source": [
    "event = events[0]"
   ]
  },
  {
   "cell_type": "code",
   "execution_count": 8,
   "id": "639cd57c",
   "metadata": {},
   "outputs": [
    {
     "ename": "NameError",
     "evalue": "name 'loc' is not defined",
     "output_type": "error",
     "traceback": [
      "\u001b[0;31m---------------------------------------------------------------------------\u001b[0m",
      "\u001b[0;31mNameError\u001b[0m                                 Traceback (most recent call last)",
      "\u001b[0;32m/tmp/ipykernel_52462/3575146947.py\u001b[0m in \u001b[0;36m<module>\u001b[0;34m\u001b[0m\n\u001b[0;32m----> 1\u001b[0;31m \u001b[0mloc\u001b[0m\u001b[0;34m.\u001b[0m\u001b[0mtext\u001b[0m\u001b[0;34m\u001b[0m\u001b[0;34m\u001b[0m\u001b[0m\n\u001b[0m",
      "\u001b[0;31mNameError\u001b[0m: name 'loc' is not defined"
     ]
    }
   ],
   "source": [
    "loc.text"
   ]
  },
  {
   "cell_type": "code",
   "execution_count": null,
   "id": "ed8367e5",
   "metadata": {},
   "outputs": [],
   "source": [
    "\n",
    "for event in events:\n",
    "    title = event.h3.text\n",
    "    location = event.find('span', {'class':'event-location'}).text\n",
    "    time = event.find('time').text\n",
    "    \n",
    "    details['title'].append(title)\n",
    "    details['location'].append(location)\n",
    "    details['time'] = time\n",
    "    "
   ]
  },
  {
   "cell_type": "code",
   "execution_count": null,
   "id": "83ba8596",
   "metadata": {},
   "outputs": [],
   "source": [
    "details"
   ]
  },
  {
   "cell_type": "code",
   "execution_count": null,
   "id": "81768373",
   "metadata": {},
   "outputs": [],
   "source": [
    "pd.DataFrame(details)"
   ]
  },
  {
   "cell_type": "code",
   "execution_count": 13,
   "id": "2fd15dbf",
   "metadata": {},
   "outputs": [
    {
     "name": "stdout",
     "output_type": "stream",
     "text": [
      "Requirement already satisfied: urllib3 in /home/rockstar/Desktop/PTCircle/project/env/lib/python3.8/site-packages (1.26.6)\n",
      "\u001b[33mWARNING: You are using pip version 21.2.2; however, version 21.2.4 is available.\n",
      "You should consider upgrading via the '/home/rockstar/Desktop/PTCircle/project/env/bin/python -m pip install --upgrade pip' command.\u001b[0m\n"
     ]
    }
   ],
   "source": [
    "!pip install urllib3"
   ]
  },
  {
   "cell_type": "code",
   "execution_count": 19,
   "id": "202f9987",
   "metadata": {},
   "outputs": [],
   "source": [
    "def get_upcoming_python_events(url):\n",
    "    \n",
    "    details = defaultdict(list)\n",
    "    \n",
    "    res = requests.get(url)\n",
    "    soup = BeautifulSoup(res.text, 'html.parser')\n",
    "    events = soup.find('ul', {'class':'list-recent-events'}).findAll('li')\n",
    "    \n",
    "    for event in events:\n",
    "        title = event.h3.text\n",
    "        location = event.find('span', {'class':'event-location'}).text\n",
    "        time = event.find('time').text\n",
    "\n",
    "        details['title'].append(title)\n",
    "        details['location'].append(location)\n",
    "        details['time'] = time\n",
    "    \n",
    "    return pd.DataFrame(details)"
   ]
  },
  {
   "cell_type": "code",
   "execution_count": 20,
   "id": "93874303",
   "metadata": {},
   "outputs": [],
   "source": [
    "df = get_upcoming_python_events(url)"
   ]
  },
  {
   "cell_type": "code",
   "execution_count": 21,
   "id": "0148d273",
   "metadata": {},
   "outputs": [
    {
     "data": {
      "text/html": [
       "<div>\n",
       "<style scoped>\n",
       "    .dataframe tbody tr th:only-of-type {\n",
       "        vertical-align: middle;\n",
       "    }\n",
       "\n",
       "    .dataframe tbody tr th {\n",
       "        vertical-align: top;\n",
       "    }\n",
       "\n",
       "    .dataframe thead th {\n",
       "        text-align: right;\n",
       "    }\n",
       "</style>\n",
       "<table border=\"1\" class=\"dataframe\">\n",
       "  <thead>\n",
       "    <tr style=\"text-align: right;\">\n",
       "      <th></th>\n",
       "      <th>title</th>\n",
       "      <th>location</th>\n",
       "      <th>time</th>\n",
       "    </tr>\n",
       "  </thead>\n",
       "  <tbody>\n",
       "    <tr>\n",
       "      <th>0</th>\n",
       "      <td>PyConline AU 2021</td>\n",
       "      <td>Online, Australia</td>\n",
       "      <td>16 Sept. – 20 Sept.  2022</td>\n",
       "    </tr>\n",
       "    <tr>\n",
       "      <th>1</th>\n",
       "      <td>PyCon Odessa 2021</td>\n",
       "      <td>Damani-Hotel, Dachniy kooperatyv, plot 4, Karo...</td>\n",
       "      <td>16 Sept. – 20 Sept.  2022</td>\n",
       "    </tr>\n",
       "    <tr>\n",
       "      <th>2</th>\n",
       "      <td>PyCon India 2021</td>\n",
       "      <td>online</td>\n",
       "      <td>16 Sept. – 20 Sept.  2022</td>\n",
       "    </tr>\n",
       "    <tr>\n",
       "      <th>3</th>\n",
       "      <td>PyConTW 2021</td>\n",
       "      <td>Online</td>\n",
       "      <td>16 Sept. – 20 Sept.  2022</td>\n",
       "    </tr>\n",
       "    <tr>\n",
       "      <th>4</th>\n",
       "      <td>PyCon ZA 2021</td>\n",
       "      <td>Online</td>\n",
       "      <td>16 Sept. – 20 Sept.  2022</td>\n",
       "    </tr>\n",
       "  </tbody>\n",
       "</table>\n",
       "</div>"
      ],
      "text/plain": [
       "               title                                           location  \\\n",
       "0  PyConline AU 2021                                  Online, Australia   \n",
       "1  PyCon Odessa 2021  Damani-Hotel, Dachniy kooperatyv, plot 4, Karo...   \n",
       "2   PyCon India 2021                                             online   \n",
       "3       PyConTW 2021                                             Online   \n",
       "4      PyCon ZA 2021                                             Online   \n",
       "\n",
       "                        time  \n",
       "0  16 Sept. – 20 Sept.  2022  \n",
       "1  16 Sept. – 20 Sept.  2022  \n",
       "2  16 Sept. – 20 Sept.  2022  \n",
       "3  16 Sept. – 20 Sept.  2022  \n",
       "4  16 Sept. – 20 Sept.  2022  "
      ]
     },
     "execution_count": 21,
     "metadata": {},
     "output_type": "execute_result"
    }
   ],
   "source": [
    "df.head()"
   ]
  },
  {
   "cell_type": "markdown",
   "id": "5e639eb8",
   "metadata": {},
   "source": [
    "## Dowloading the images"
   ]
  },
  {
   "cell_type": "code",
   "execution_count": 29,
   "id": "048fd134",
   "metadata": {},
   "outputs": [
    {
     "name": "stdout",
     "output_type": "stream",
     "text": [
      "Downloading this https://xkcd.com///imgs.xkcd.com/comics/barrel_cropped_(1).jpg\n",
      "Downloading this https://xkcd.com///imgs.xkcd.com/comics/tree_cropped_(1).jpg\n",
      "Downloading this https://xkcd.com///imgs.xkcd.com/comics/island_color.jpg\n",
      "Downloading this https://xkcd.com///imgs.xkcd.com/comics/landscape_cropped_(1).jpg\n",
      "Downloading this https://xkcd.com///imgs.xkcd.com/comics/blownapart_color.jpg\n",
      "Downloading this https://xkcd.com///imgs.xkcd.com/comics/irony_color.jpg\n",
      "Downloading this https://xkcd.com///imgs.xkcd.com/comics/girl_sleeping_noline_(1).jpg\n",
      "Downloading this https://xkcd.com///imgs.xkcd.com/comics/red_spiders_small.jpg\n",
      "Downloading this https://xkcd.com///imgs.xkcd.com/comics/firefly.jpg\n",
      "Downloading this https://xkcd.com///imgs.xkcd.com/comics/pi.jpg\n"
     ]
    }
   ],
   "source": [
    "import shutil\n",
    "\n",
    "url = \"https://xkcd.com/\"\n",
    "\n",
    "for i in range(10):    \n",
    "    req = requests.get(f'{url}/{i+1}')\n",
    "    data = BeautifulSoup(req.text, 'html.parser')\n",
    "    image = data.find('div', {'id':'comic'}).find('img')\n",
    "    base = image.attrs['src']\n",
    "#     print(base)\n",
    "    url_to_image = url + base\n",
    "    r = requests.get(url_to_image, stream=True)\n",
    "    if r.status_code == 200:\n",
    "        print(f\"Downloading this {url_to_image}\")\n",
    "        with open(f'file_{i+1}.jpg', 'wb') as f:\n",
    "            r.raw.decode_content = True\n",
    "            shutil.copyfileobj(r.raw, f)\n",
    "            \n",
    "            "
   ]
  },
  {
   "cell_type": "code",
   "execution_count": null,
   "id": "f2b495ac",
   "metadata": {},
   "outputs": [],
   "source": []
  }
 ],
 "metadata": {
  "kernelspec": {
   "display_name": "Python 3.8.10 64-bit ('env': venv)",
   "language": "python",
   "name": "python3810jvsc74a57bd0fb6f7fc24c53cf43f8793fcc838efa357ae6eb6b076c1171e98213415b8946fd"
  },
  "language_info": {
   "codemirror_mode": {
    "name": "ipython",
    "version": 3
   },
   "file_extension": ".py",
   "mimetype": "text/x-python",
   "name": "python",
   "nbconvert_exporter": "python",
   "pygments_lexer": "ipython3",
   "version": "3.8.10"
  }
 },
 "nbformat": 4,
 "nbformat_minor": 5
}
